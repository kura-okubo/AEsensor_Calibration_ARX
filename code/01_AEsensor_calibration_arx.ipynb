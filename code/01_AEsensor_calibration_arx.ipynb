{
 "cells": [
  {
   "cell_type": "markdown",
   "id": "99cb23ce-f8db-4712-9bc8-14a816cc387d",
   "metadata": {},
   "source": [
    "# AE sensor calibration using ARX model\n",
    "\n",
    "This notebook compute the ARX model with least square method associated with the input and output waveforms.\n",
    "\n",
    "\n",
    "To run this notebook, you need\n",
    "\n",
    "- MATLAB R2020b or later\n",
    "- jupyter lab (**NOTE:** do NOT open with the jupyter notebook, otherwise you will get an error.)\n",
    "- jupyter-matlab-proxy (https://github.com/mathworks/jupyter-matlab-proxy)\n",
    "- Signal Processing Toolbox\n",
    "\n",
    "See [the installation guide of MATLAB kernel for jupyter notebook](https://github.com/mathworks/jupyter-matlab-proxy#installation).\n",
    "\n",
    "**NOTE:** You need to export a path to the executable file of MATLAB such as `/Applications/MATLAB_R2021b.app/bin/matlab` to run it from the terminal.\n",
    "\n",
    "\n",
    "**NOTE:** The `data` and `code` directories are searched by the relative path. Please make sure you are in the repository of `AEsensor_Calibration_ARX`. You can use `pwd` command in the cell to check the current directory."
   ]
  },
  {
   "cell_type": "markdown",
   "id": "61e7e76f-899d-4923-949d-b652a92458bf",
   "metadata": {},
   "source": [
    "# Theory"
   ]
  },
  {
   "cell_type": "markdown",
   "id": "1f44debd-b372-4080-81cf-7734dec6ba06",
   "metadata": {},
   "source": [
    "The ARX model is written as follows (Kay and Marple 1981; McLaskey and Glaser, 2012):\n",
    "$$ y_k = \\sum_{q=0}^{n} b_q u_{k-q} - \\sum_{p=1}^{m} a_p y_{k-p} + w_k $$\n",
    "where $y_k$ and $u_k$ $(k=0, 1, \\cdots, N)$ are the discrete time series associated with the output and input of the system, respectively. $a_p$ and $b_q$ are the coefficients of ARX model, and $w_k$ indicates the white noise.\n",
    "\n",
    "We compare the waveforms radiated from an impulsive source of transducer recorded with the Laser Doppler Vibrometer (LDV) and AE sensor, which is denoted as the input and output signals, respectively. We assume the LDV measures the true motion of the surface, and the motion is \"input\" to the AE sensor, which converts the motion to the voltage as the \"output\". \n",
    "\n",
    "The model parameters are estimated using least square method such that\n",
    "\n",
    "$$\\mathbf{\\hat{\\theta}} = \\left(\\sum_{k=0}^{N} \\mathbf{\\phi}_k \\mathbf{\\phi}_k^T\\right)^{-1} \\sum_{k=0}^{N} \\mathbf{\\phi}_k y_k,$$\n",
    "\n",
    "where\n",
    "\n",
    "$$ \\mathbf{\\theta} = [-a_1, -a_2, \\cdots, -a_m, b_0, b_1, b_2, \\cdots, b_n]^T, $$\n",
    "$$ \\mathbf{\\phi}_k = [y_{k-1},y_{k-2}, \\cdots, y_{k-m}, u_k, u_{k-1},u_{k-2}, \\cdots, u_{k-n}]^T. $$\n",
    "\n",
    "See the references on the derivation of the $\\mathbf{\\hat{\\theta}}$. This algorithm is implemented in the `lsq_arx.m`.\n",
    "\n",
    "The order of the model, i.e. the number of $m$ and $n$, can be chosen by the comparison of AIC (Akaike, 1974) with different model orders. In this notebook, however, we use a given number for the sake of simplicity. \n",
    "\n",
    "\n",
    "The transfer function by the ARX model can be rewritten with the z-transform such as\n",
    "$$ y_k = G(z)u_k,$$\n",
    "$$ G(z) = \\dfrac{b_0 + b_1 z^{-1} + \\cdots + b_n z^{-n}}{1 + a_1z^{-1} + \\cdots + a_mz^{-m}},$$\n",
    "$$ =  k\\dfrac{(z-z_1)(z-z_2)\\cdots(z-z_n)}{(z-p_1)(z-p_2)\\cdots(z-p_m)},$$\n",
    "where $p_p, z_q, k$ are the poles and zeros (PAZ), and gain of the transfer function. See the Appendix C in the manual of SEED.\n",
    "We convert the $a, b$ to the PAZ coefficients using the Matlab function [`tf2zpk`](https://www.mathworks.com/help/signal/ref/tf2zpk.html).\n",
    "\n",
    "We save the PAZ coefficients in the end of this notebook, and use them to remove the instrumental response in `02_Apply_removalresp_to_AEevent.ipynb`."
   ]
  },
  {
   "cell_type": "markdown",
   "id": "b60a7691-1a17-4b78-ac04-80cf97937209",
   "metadata": {},
   "source": [
    "**Reference:**\n",
    "\n",
    "[1]\tKay, S. M. and Marple, S. L. Spectrum analysis---a modern perspective. Proceedings of the IEEE, 69(11):1380-1419, 1981, doi:[10.1109/PROC.1981.12184](https://ieeexplore.ieee.org/document/1456452).\n",
    "\n",
    "[2]\tMcLaskey, G. C. and Glaser, S. D. Acoustic emission sensor calibration for absolute source measurements. Journal of Nondestructive Evaluation, 31(2):157--168, 2012, doi:[10.1007/s10921-012-0131-2](https://link.springer.com/article/10.1007/s10921-012-0131-2).\n",
    "\n",
    "[3] IRIS, SEED reference manual international federation of digital seismograph networks. 2012, URL: [http://www.fdsn.org/pdf/SEEDManual_V2.4.pdf](http://www.fdsn.org/pdf/SEEDManual_V2.4.pdf).\n",
    "\n",
    "\n",
    "[4] 橋本 洋志, Scilabで学ぶ統計・スペクトル解析と同定, オーム社, 2008, ISBN: [978-4-274-20619-1](https://www.ohmsha.co.jp/book/9784274206191/) (Japanese)\n"
   ]
  },
  {
   "cell_type": "markdown",
   "id": "c36d0db0-5fe3-4603-8200-f436c065c015",
   "metadata": {},
   "source": [
    "# Minimal working example of computing the poles and zeros"
   ]
  },
  {
   "cell_type": "code",
   "execution_count": 1,
   "id": "83c20118-44cf-484d-978f-d14a59da25eb",
   "metadata": {},
   "outputs": [],
   "source": [
    "clear all;\n",
    "addpath(\"./code\");"
   ]
  },
  {
   "cell_type": "markdown",
   "id": "e0737eb1-f22c-4145-91b8-a1c90daa72bb",
   "metadata": {},
   "source": [
    "## Set parameters"
   ]
  },
  {
   "cell_type": "code",
   "execution_count": 2,
   "id": "955a4b96-2b58-4972-9460-3587958b4e6c",
   "metadata": {},
   "outputs": [],
   "source": [
    "fs = 1e7; % sampling frequency\n",
    "tlen = 100e-6; % [s] data length % master data with 100 us\n",
    "NT = round(tlen * fs)+1; % npts of data\n",
    "\n",
    "% bandpass filter before applying lsq method\n",
    "fmin = 0.2e5; %[Hz]\n",
    "fmax = 2e5; %[Hz]\n",
    "\n",
    "% Order of ARX model\n",
    "Na = 20; % order of Auto-regressive model\n",
    "Nb = 6; % order of Moving-average associated with the input\n"
   ]
  },
  {
   "cell_type": "markdown",
   "id": "5748da7f-8b46-45b3-a87e-d344a6faeebb",
   "metadata": {},
   "source": [
    "## Read the waveform data"
   ]
  },
  {
   "cell_type": "code",
   "execution_count": 3,
   "id": "aaf6f556-f681-4c3b-acd1-1f7f6f5708f5",
   "metadata": {},
   "outputs": [],
   "source": [
    "LDV = readtable(\"./data/LDV_fronttop_S200V.csv\"); % used as input\n",
    "AE = readtable(\"./data/AE_fronttop_S100V.csv\"); % used as output"
   ]
  },
  {
   "cell_type": "code",
   "execution_count": 4,
   "id": "677ac05f-9d24-47c4-82e3-9f5bfa315abf",
   "metadata": {},
   "outputs": [],
   "source": [
    "% Store data to the structure\n",
    "S.t = LDV.t;\n",
    "S.LDV = LDV.LDV/2; % As the source is 200V on LDV while 100V on AE, devide LDV by 2.\n",
    "S.AE = AE.AE;"
   ]
  },
  {
   "cell_type": "code",
   "execution_count": 5,
   "id": "af3d689a-ab84-40d0-92fa-6aece579f3fb",
   "metadata": {},
   "outputs": [],
   "source": [
    "% Trim the waveform\n",
    "u_input_raw = S.LDV(1:NT); % exgeneous input data\n",
    "y_output_raw = S.AE(1:NT); % output data\n",
    "tvec = S.t(1:NT)*1e6; % [micro s] trimmed time vector "
   ]
  },
  {
   "cell_type": "code",
   "execution_count": 6,
   "id": "74cca492-4aef-49e1-8cdc-71b99a2df518",
   "metadata": {},
   "outputs": [],
   "source": [
    "% butterworth filter\n",
    "[b,a]=butter(3, [fmin,fmax]/(fs/2),'bandpass'); % Master data: chose 3rd order.\n",
    "\n",
    "% detrend\n",
    "u_input_raw_demean = detrend(u_input_raw - mean(u_input_raw(1:100)));\n",
    "y_output_raw_demean = detrend(y_output_raw - mean(y_output_raw(1:100)));\n",
    "\n",
    "% tapered\n",
    "u_input_raw_tapered = u_input_raw_demean.*tukeywin(NT,0.1);\n",
    "y_output_raw_tapered = y_output_raw_demean.*tukeywin(NT,0.1);\n",
    "\n",
    "% bandpass filtered\n",
    "u_input_filtered = filter(b, a, u_input_raw_tapered);\n",
    "y_output_filtered = filter(b, a, y_output_raw_tapered);\n",
    "\n",
    "% tapered\n",
    "u_input_filtered = u_input_filtered.*tukeywin(NT,0.1);\n",
    "y_output_filtered = y_output_filtered.*tukeywin(NT,0.1);\n",
    "\n",
    "u_input = u_input_filtered;\n",
    "y_output = y_output_filtered;\n"
   ]
  },
  {
   "cell_type": "code",
   "execution_count": 7,
   "id": "d3c0a98b-daaf-4200-8672-ce0c19f65721",
   "metadata": {},
   "outputs": [
    {
     "data": {
      "image/png": "[encoded data removed]"
     },
     "execution_count": 7,
     "metadata": {},
     "output_type": "execute_result"
    }
   ],
   "source": [
    "% Check the waveforms\n",
    "clf;\n",
    "\n",
    "subplot(211); hold on; box on;\n",
    "plot(tvec, u_input_raw_demean*1e3, \"k-\", \"DisplayName\", \"u input\");\n",
    "ylim([-1, 1]);\n",
    "ylabel(\"Velocity [mm/s]\");\n",
    "\n",
    "yyaxis right\n",
    "plot(tvec, y_output_raw_demean, \"r-\", \"DisplayName\", \"y output\");\n",
    "ylim([-5, 5]);\n",
    "ylabel(\"Amplitude [V]\");\n",
    "legend('Location','southeast');\n",
    "title(\"Raw waveform after demean\");\n",
    "%-------------------------------------------%\n",
    "subplot(212); hold on; box on;\n",
    "plot(tvec, u_input*1e3, \"k-\", \"DisplayName\", \"u input\");\n",
    "ylim([-0.1, 0.1]);\n",
    "ylabel(\"Velocity [mm/s]\");\n",
    "\n",
    "yyaxis right\n",
    "plot(tvec, y_output, \"r-\", \"DisplayName\", \"y output\");\n",
    "ylim([-1, 1]);\n",
    "ylabel(\"Amplitude [V]\");\n",
    "legend('Location','southeast');\n",
    "title(sprintf(\"Bandpass filtered: %4.2f-%4.2fMHz\", fmin/1e6, fmax/1e6));\n",
    "\n",
    "set(gcf, 'Color', 'w');\n",
    "figname = sprintf(\"./figure/input_and_output_waveforms.png\");\n",
    "exportgraphics(gcf, figname);"
   ]
  },
  {
   "cell_type": "markdown",
   "id": "85002b14-6306-443a-b6b5-69e82dfc657f",
   "metadata": {},
   "source": [
    "## Compute the ARX model using least square method"
   ]
  },
  {
   "cell_type": "markdown",
   "id": "d99cc3ee-95d0-4254-b1f2-c614e46739db",
   "metadata": {},
   "source": [
    "NOTE: We normalize the amplitude of the waveforms by their standard deviations for the sake of stability in the estimation with lsq. Therefore, we need to rescale the factor when using the poles, zeros and the gain. "
   ]
  },
  {
   "cell_type": "code",
   "execution_count": 8,
   "id": "12c62730-0479-4821-9bea-93720f05f402",
   "metadata": {},
   "outputs": [],
   "source": [
    "% scaling amplitude with std\n",
    "scaling_u = std(u_input);\n",
    "scaling_y = std(y_output);\n",
    "u_input_scaled = u_input./scaling_u;\n",
    "y_output_scaled = y_output./scaling_y;\n",
    "u_normfact = scaling_u/scaling_y; % multiply this to the normalized output"
   ]
  },
  {
   "cell_type": "code",
   "execution_count": 9,
   "id": "144b9998-eb5d-44d2-92ef-198c7a51ebb5",
   "metadata": {},
   "outputs": [],
   "source": [
    "[theta, AIC] = lsq_arx(u_input_scaled, y_output_scaled, Na, Nb); % see lsq_arx.m for the details."
   ]
  },
  {
   "cell_type": "markdown",
   "id": "abef17e9-12c8-4cea-942c-7c88272ac463",
   "metadata": {},
   "source": [
    "## Plot the distribution of poles and zeros"
   ]
  },
  {
   "cell_type": "code",
   "execution_count": 10,
   "id": "e25c4e14-f823-46ee-90b6-f9f368c77c92",
   "metadata": {},
   "outputs": [
    {
     "data": {
      "text/html": [
       "<html><body><pre>k = 700.9513</pre></body></html>"
      ],
      "text/plain": [
       "k = 700.9513"
      ]
     },
     "execution_count": 10,
     "metadata": {},
     "output_type": "execute_result"
    },
    {
     "data": {
      "image/png": "[encoded data removed]"
     },
     "execution_count": 10,
     "metadata": {},
     "output_type": "execute_result"
    }
   ],
   "source": [
    "%%\n",
    "tf_a = [1; theta(1:Na)]; % assuming a0 is 1\n",
    "tf_b = theta(Na+1:end);\n",
    "[z,p,k1] = tf2zpk(tf_b,tf_a);\n",
    "\n",
    "% We rescale the scaling factor k by u_normfact\n",
    "k = k1/u_normfact\n",
    "\n",
    "%% Plot pole and zeros\n",
    "clf; hold on; box on; grid on;\n",
    "\n",
    "[hz1, hp1, ht1] = zplane(z, p);%with the unit circle\n",
    "set(findobj(hz1, 'Type', 'line'), 'Color', 'r'); \n",
    "set(findobj(hp1, 'Type', 'line'), 'Color', 'b');\n",
    "set(findobj(ht1, 'Type', 'line'), 'Color', 'k');\n",
    "legend({\"zeros\", \"poles\", \"\"})\n",
    "\n",
    "title('Pole-zero map') \n",
    "set(gcf, 'Color', 'w');\n",
    "figname = sprintf(\"./figure/pzplot.png\");\n",
    "exportgraphics(gcf, figname);"
   ]
  },
  {
   "cell_type": "markdown",
   "id": "6ebbbd25-2923-4f2e-813c-c126b05f5bd7",
   "metadata": {},
   "source": [
    "## Dump the data of poles and zeros"
   ]
  },
  {
   "cell_type": "code",
   "execution_count": 11,
   "id": "5e8ba143-0923-4f67-a1e9-976106d09484",
   "metadata": {},
   "outputs": [],
   "source": [
    "save(\"./data/AE_resp_dataandcoef.mat\", \"u_input_raw\", \"y_output_raw\", \"tf_a\", \"tf_b\", \"z\",...\n",
    "    \"p\", \"k\", \"Na\", \"Nb\", \"AIC\", \"u_normfact\");"
   ]
  },
  {
   "cell_type": "markdown",
   "id": "7b223b35-c2a0-4990-a4bc-bfd9f631d134",
   "metadata": {},
   "source": [
    "Please go to next notebook (`02_Apply_removalresp_to_AEevent.ipynb`) to apply the poles and zeros to the AE waveforms."
   ]
  },
  {
   "cell_type": "code",
   "execution_count": null,
   "id": "08c008d6-5b52-4c8e-bd45-b5e961b3d558",
   "metadata": {},
   "outputs": [],
   "source": []
  }
 ],
 "metadata": {
  "kernelspec": {
   "display_name": "MATLAB Kernel",
   "language": "matlab",
   "name": "jupyter_matlab_kernel"
  },
  "language_info": {
   "file_extension": ".m",
   "mimetype": "text/x-matlab",
   "name": "matlab"
  }
 },
 "nbformat": 4,
 "nbformat_minor": 5
}
